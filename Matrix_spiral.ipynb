{
 "cells": [
  {
   "cell_type": "code",
   "execution_count": 15,
   "metadata": {},
   "outputs": [
    {
     "name": "stdout",
     "output_type": "stream",
     "text": [
      "5\n",
      "[[None, None, None, None, None], [None, None, None, None, None], [None, None, None, None, None], [None, None, None, None, None], [None, None, None, None, None]]\n",
      "1 2 3 4 5 \n",
      "16 17 18 19 6 \n",
      "15 24 25 20 7 \n",
      "14 23 22 21 8 \n",
      "13 12 11 10 9 \n"
     ]
    }
   ],
   "source": [
    "n = int(input())\n",
    "arr = [[None for j in range(n)] for i in range(n)]\n",
    "dx, dy = 1, 0\n",
    "x, y = 0, 0\n",
    "for i in range(1, n**2+1):\n",
    "        # Элементу матрицы с координатами x и y присваивается значение i\n",
    "        # Эта строчка будет присваивать последовательные натуральные числа\n",
    "        # тем ячейкам, которые перебирает код чуть ниже\n",
    "    arr[y][x] = i\n",
    "        # Создаются временные переменные nx и ny\n",
    "        # в которых вычисляются новые значения для x и y\n",
    "        # для этого к старым значенииям прибавляются приращения\n",
    "    nx, ny = x+dx, y+dy\n",
    "        # Если всё нормально, и индекс не выскочил за пределы матрицы\n",
    "        # или не наткнулся на уже занятую ячейку\n",
    "    if 0 <= nx < n and 0 <= ny < n and not arr[ny][nx]:\n",
    "            # то эти значения и оставляются\n",
    "        x, y = nx, ny\n",
    "    else:\n",
    "            # а если индекс выскочил за границу матрицы\n",
    "            # или наткнулся на уже занятую ячейку\n",
    "            # то разворачиваемся на 90 градусов\n",
    "            # путем замены приращения по x и y друг на друга\n",
    "            # а минус нужен, чтобы он не ходил только вправо или вниз, \n",
    "            # а чередовал с движениями вверх или влево. \n",
    "            # Так и получается спираль \n",
    "        dx, dy = -dy, dx\n",
    "            # и используем уже это изменённое движение для новых значений x и y\n",
    "        x, y = x+dx, y+dy\n",
    "    # После того, как перебрали все элементы, \n",
    "    # печатаем то, что получилось\n",
    "for i in arr:\n",
    "    for j in i:\n",
    "        print(j,end=' ')\n",
    "    print()"
   ]
  },
  {
   "cell_type": "code",
   "execution_count": null,
   "metadata": {},
   "outputs": [],
   "source": []
  }
 ],
 "metadata": {
  "kernelspec": {
   "display_name": "Python 3",
   "language": "python",
   "name": "python3"
  },
  "language_info": {
   "codemirror_mode": {
    "name": "ipython",
    "version": 3
   },
   "file_extension": ".py",
   "mimetype": "text/x-python",
   "name": "python",
   "nbconvert_exporter": "python",
   "pygments_lexer": "ipython3",
   "version": "3.7.4"
  }
 },
 "nbformat": 4,
 "nbformat_minor": 2
}
