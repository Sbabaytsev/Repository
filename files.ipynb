{
 "cells": [
  {
   "cell_type": "code",
   "execution_count": 45,
   "metadata": {},
   "outputs": [
    {
     "name": "stdout",
     "output_type": "stream",
     "text": [
      "S7P3X1g14f17Q14D2O5d1e8N6q9I10Q1s10y8o10a9y11b12C3O10G19K2Z19W5k13Q2p16F20c18V5m17F6T1R15b4x1i18E9P16X16\n",
      "SSSSSSSPPPXggggggggggggggfffffffffffffffffQQQQQQQQQQQQQQDDOOOOOdeeeeeeeeNNNNNNqqqqqqqqqIIIIIIIIIIQssssssssssyyyyyyyyooooooooooaaaaaaaaayyyyyyyyyyybbbbbbbbbbbbCCCOOOOOOOOOOGGGGGGGGGGGGGGGGGGGKKZZZZZZZZZZZZZZZZZZZWWWWWkkkkkkkkkkkkkQQppppppppppppppppFFFFFFFFFFFFFFFFFFFFccccccccccccccccccVVVVVmmmmmmmmmmmmmmmmmFFFFFFTRRRRRRRRRRRRRRRbbbbxiiiiiiiiiiiiiiiiiiEEEEEEEEEPPPPPPPPPPPPPPPP"
     ]
    }
   ],
   "source": [
    "# не обрабатывает последние букву и цифру(ы)\n",
    "with open ('D:\\\\_Работа\\\\php js py\\\\py\\\\input.txt', 'r') as inf:\n",
    "    row = inf.readline()\n",
    "    print(row)\n",
    "    nums = '0123456789'\n",
    "    letter = row[0]\n",
    "    num = ''\n",
    "    for symbol in row:\n",
    "        if symbol in nums:\n",
    "            num += symbol\n",
    "        else:\n",
    "            print(letter * (0 if num == \"\" else int(num)), end= '')\n",
    "            letter = symbol\n",
    "            num = ''"
   ]
  },
  {
   "cell_type": "code",
   "execution_count": 1,
   "metadata": {},
   "outputs": [
    {
     "name": "stdout",
     "output_type": "stream",
     "text": [
      "S7P3X1g14f17Q14D2O5d1e8N6q9I10Q1s10y8o10a9y11b12C3O10G19K2Z19W5k13Q2p16F20c18V5m17F6T1R15b4x1i18E9P16X16\n",
      "SPPPPPPPXXXgffffffffffffffQQQQQQQQQQQQQQQQQDDDDDDDDDDDDDDOOdddddeNNNNNNNNqqqqqqIIIIIIIIIQQQQQQQQQQsyyyyyyyyyyooooooooaaaaaaaaaayyyyyyyyybbbbbbbbbbbCCCCCCCCCCCCOOOGGGGGGGGGGKKKKKKKKKKKKKKKKKKKZZWWWWWWWWWWWWWWWWWWWkkkkkQQQQQQQQQQQQQppFFFFFFFFFFFFFFFFccccccccccccccccccccVVVVVVVVVVVVVVVVVVmmmmmFFFFFFFFFFFFFFFFFTTTTTTRbbbbbbbbbbbbbbbxxxxiEEEEEEEEEEEEEEEEEEPPPPPPPPPXXXXXXXXXXXXXXXX\n"
     ]
    }
   ],
   "source": [
    "# некорректно обрабатывает последовательность\n",
    "def decode_rle(code):\n",
    "    mul = ''\n",
    "    string = ''\n",
    "    for symbol in code:\n",
    "        if symbol.isdigit():\n",
    "            mul += symbol\n",
    "        else:\n",
    "            string += symbol * int(mul) if mul else symbol\n",
    "            mul = ''\n",
    "    return string\n",
    "\n",
    "\n",
    "if __name__ == '__main__':\n",
    "    print(decode_rle(input()))"
   ]
  },
  {
   "cell_type": "code",
   "execution_count": 1,
   "metadata": {},
   "outputs": [
    {
     "name": "stdout",
     "output_type": "stream",
     "text": [
      "S7P3X1g14f17Q14D2O5d1e8N6q9I10Q1s10y8o10a9y11b12C3O10G19K2Z19W5k13Q2p16F20c18V5m17F6T1R15b4x1i18E9P16X16\n",
      "SSSSSSSPPPXggggggggggggggfffffffffffffffffQQQQQQQQQQQQQQDDOOOOOdeeeeeeeeNNNNNNqqqqqqqqqIIIIIIIIIIQssssssssssyyyyyyyyooooooooooaaaaaaaaayyyyyyyyyyybbbbbbbbbbbbCCCOOOOOOOOOOGGGGGGGGGGGGGGGGGGGKKZZZZZZZZZZZZZZZZZZZWWWWWkkkkkkkkkkkkkQQppppppppppppppppFFFFFFFFFFFFFFFFFFFFccccccccccccccccccVVVVVmmmmmmmmmmmmmmmmmFFFFFFTRRRRRRRRRRRRRRRbbbbxiiiiiiiiiiiiiiiiiiEEEEEEEEEPPPPPPPPPPPPPPPPXXXXXXXXXXXXXXXX"
     ]
    }
   ],
   "source": [
    "# работает корректно\n",
    "with open ('D:\\\\_Работа\\\\php js py\\\\py\\\\input.txt', 'r') as f:\n",
    "    s = f.readline().strip()\n",
    "    print(s)\n",
    "i = 0\n",
    "while i < len(s):\n",
    "    j = i + 1\n",
    "    while j < len(s) and s[j].isdigit():\n",
    "        j += 1\n",
    "    print(s[i] * int(s[i+1:j]), end='')\n",
    "    i = j"
   ]
  },
  {
   "cell_type": "code",
   "execution_count": 12,
   "metadata": {},
   "outputs": [
    {
     "name": "stdout",
     "output_type": "stream",
     "text": [
      "AAA 7"
     ]
    }
   ],
   "source": [
    "with open ('D:\\\\_Работа\\\\php js py\\\\py\\\\dataset_3363_3.txt', 'r') as f:\n",
    "    s = f.read().replace('\\n', '').upper().split()\n",
    "d = {}\n",
    "for i in set(s):\n",
    "    d[i] = s.count(i)\n",
    "x = max(d.values())\n",
    "Spisok = sorted([key for key in d if d[key] == x])\n",
    "print(Spisok[0], x, end='')"
   ]
  },
  {
   "cell_type": "code",
   "execution_count": 53,
   "metadata": {},
   "outputs": [
    {
     "name": "stdout",
     "output_type": "stream",
     "text": [
      "47.666666666666664\n",
      "45.0\n",
      "60.666666666666664\n",
      "78.66666666666667\n",
      "78.0\n",
      "62.0\n",
      "70.0\n",
      "62.666666666666664\n",
      "61.333333333333336\n",
      "85.0\n",
      "51.666666666666664\n",
      "64.0\n",
      "65.33333333333333\n",
      "70.0\n",
      "89.0\n",
      "75.0\n",
      "62.333333333333336\n",
      "53.0\n",
      "52.333333333333336\n",
      "40.0\n",
      "49.666666666666664\n",
      "74.33333333333333\n",
      "66.33333333333333\n",
      "50.333333333333336\n",
      "81.0\n",
      "73.33333333333333\n",
      "52.666666666666664\n",
      "31.666666666666668\n",
      "75.0\n",
      "53.333333333333336\n",
      "48.666666666666664\n",
      "87.66666666666667\n",
      "63.0\n",
      "78.0\n",
      "68.0\n",
      "58.0\n",
      "77.33333333333333\n",
      "52.0\n",
      "48.666666666666664\n",
      "76.0\n",
      "41.666666666666664\n",
      "43.333333333333336\n",
      "67.66666666666667\n",
      "72.0\n",
      "59.333333333333336\n",
      "56.0\n",
      "87.0\n",
      "52.333333333333336\n",
      "81.66666666666667\n",
      "72.0\n",
      "65.66666666666667\n",
      "64.33333333333333\n",
      "39.666666666666664\n",
      "64.33333333333333\n",
      "44.666666666666664\n",
      "36.0\n",
      "78.66666666666667\n",
      "66.66666666666667\n",
      "55.0\n",
      "54.666666666666664\n",
      "64.66666666666667\n",
      "73.0\n",
      "53.333333333333336\n",
      "88.0\n",
      "67.33333333333333\n",
      "66.66666666666667\n",
      "81.33333333333333\n",
      "42.0\n",
      "54.666666666666664\n",
      "54.0\n",
      "84.33333333333333\n",
      "76.33333333333333\n",
      "47.333333333333336\n",
      "73.0\n",
      "77.66666666666667\n",
      "67.0\n",
      "61.333333333333336\n",
      "48.333333333333336\n",
      "89.0\n",
      "72.66666666666667\n",
      "66.0\n",
      "68.66666666666667\n",
      "59.333333333333336\n",
      "59.666666666666664\n",
      "67.66666666666667\n",
      "73.66666666666667\n",
      "69.0\n",
      "86.0\n",
      "47.666666666666664\n",
      "55.0\n",
      "70.0\n",
      "64.33333333333333\n",
      "41.666666666666664\n",
      "60.666666666666664\n",
      "52.666666666666664\n",
      "62.0\n",
      "77.66666666666667\n",
      "62.666666666666664\n",
      "57.666666666666664\n",
      "62.666666666666664\n",
      "54.666666666666664\n",
      "51.0\n",
      "46.666666666666664\n",
      "67.0\n",
      "55.0\n",
      "47.0\n",
      "72.0\n",
      "53.0\n",
      "63.666666666666664\n",
      "61.333333333333336\n",
      "63.666666666666664\n",
      "52.666666666666664\n",
      "83.33333333333333\n",
      "72.33333333333333\n",
      "64.0\n",
      "77.0\n",
      "50.333333333333336\n",
      "52.333333333333336\n",
      "49.333333333333336\n",
      "71.66666666666667\n",
      "43.666666666666664\n",
      "56.0\n",
      "55.0\n",
      "66.0\n",
      "52.0\n",
      "58.333333333333336\n",
      "72.0\n",
      "58.666666666666664\n",
      "71.0\n",
      "41.333333333333336\n",
      "67.0\n",
      "60.0\n",
      "67.33333333333333\n",
      "55.0\n",
      "63.3955223880597   60.843283582089555   63.35820895522388\n"
     ]
    }
   ],
   "source": [
    "with open ('D:\\\\_Работа\\\\php js py\\\\py\\\\dataset_3363_4.txt', 'r') as f:\n",
    "    sum1, sum2, sum3 = 0, 0, 0\n",
    "    s = f.readlines()\n",
    "    for el in s:\n",
    "        sum = 0\n",
    "        str = el.replace('\\n', '').split(';')\n",
    "        sum1 += int(str[1])\n",
    "        sum2 += int(str[2])\n",
    "        sum3 += int(str[3])\n",
    "        for i in range(1,4):\n",
    "            sum += int(str[i])\n",
    "        print(sum / 3)\n",
    "    print(sum1 / len(s), ' ', sum2 / len(s), ' ', sum3 / len(s))\n"
   ]
  },
  {
   "cell_type": "code",
   "execution_count": 54,
   "metadata": {},
   "outputs": [
    {
     "data": {
      "text/plain": [
       "134"
      ]
     },
     "execution_count": 54,
     "metadata": {},
     "output_type": "execute_result"
    }
   ],
   "source": [
    "len(s)"
   ]
  },
  {
   "cell_type": "code",
   "execution_count": null,
   "metadata": {},
   "outputs": [],
   "source": []
  }
 ],
 "metadata": {
  "kernelspec": {
   "display_name": "Python 3",
   "language": "python",
   "name": "python3"
  },
  "language_info": {
   "codemirror_mode": {
    "name": "ipython",
    "version": 3
   },
   "file_extension": ".py",
   "mimetype": "text/x-python",
   "name": "python",
   "nbconvert_exporter": "python",
   "pygments_lexer": "ipython3",
   "version": "3.7.4"
  }
 },
 "nbformat": 4,
 "nbformat_minor": 2
}
