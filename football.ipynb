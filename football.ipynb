{
 "cells": [
  {
   "cell_type": "code",
   "execution_count": 24,
   "metadata": {},
   "outputs": [
    {
     "name": "stdout",
     "output_type": "stream",
     "text": [
      "3\n",
      "Зенит;3;Спартак;1\n",
      "Спартак;1;ЦСКА;1\n",
      "ЦСКА;0;Зенит;2\n",
      "Зенит: 2 2 0 0 6\n",
      "Спартак: 2 0 1 1 1\n",
      "ЦСКА: 2 0 1 1 1\n"
     ]
    }
   ],
   "source": [
    "n = int(input())\n",
    "ls = [str(input()) for i in range(n)]\n",
    "d = {}\n",
    "for i in ls:\n",
    "    s = i.split(';')\n",
    "    kom1 = str(s[0])\n",
    "    score1 = int(s[1])\n",
    "    kom2 = str(s[2])\n",
    "    score2 = int(s[3])\n",
    "    if not d.get(kom1):\n",
    "        d[kom1] = [0, 0, 0, 0, 0]\n",
    "    if not d.get(kom2):\n",
    "        d[kom2] = [0, 0, 0, 0, 0]\n",
    "    if score1 > score2:\n",
    "        d[kom1][0] += 1\n",
    "        d[kom1][1] += 1\n",
    "        d[kom1][4] += 3\n",
    "        d[kom2][0] += 1\n",
    "        d[kom2][3] += 1\n",
    "        d[kom2][4] += 0\n",
    "    elif score1 == score2:\n",
    "        d[kom1][0] += 1\n",
    "        d[kom1][2] += 1\n",
    "        d[kom1][4] += 1\n",
    "        d[kom2][0] += 1\n",
    "        d[kom2][2] += 1\n",
    "        d[kom2][4] += 1\n",
    "    else:\n",
    "        d[kom1][0] += 1\n",
    "        d[kom1][3] += 1\n",
    "        d[kom1][4] += 0\n",
    "        d[kom2][0] += 1\n",
    "        d[kom2][1] += 1\n",
    "        d[kom2][4] += 3\n",
    "for w, q in d.items():\n",
    "    print((w + ':'), *q, end='\\n')\n"
   ]
  },
  {
   "cell_type": "code",
   "execution_count": null,
   "metadata": {},
   "outputs": [],
   "source": []
  }
 ],
 "metadata": {
  "kernelspec": {
   "display_name": "Python 3",
   "language": "python",
   "name": "python3"
  },
  "language_info": {
   "codemirror_mode": {
    "name": "ipython",
    "version": 3
   },
   "file_extension": ".py",
   "mimetype": "text/x-python",
   "name": "python",
   "nbconvert_exporter": "python",
   "pygments_lexer": "ipython3",
   "version": "3.7.4"
  }
 },
 "nbformat": 4,
 "nbformat_minor": 2
}
