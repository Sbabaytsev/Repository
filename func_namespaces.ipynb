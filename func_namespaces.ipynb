{
 "cells": [
  {
   "cell_type": "code",
   "execution_count": 8,
   "metadata": {},
   "outputs": [
    {
     "name": "stdout",
     "output_type": "stream",
     "text": [
      "5\n",
      "create foo global\n",
      "{'global': {'parent': None, 'vars': []}, 'foo': {'parent': 'global', 'vars': []}}\n",
      "add global a\n",
      "{'global': {'parent': None, 'vars': ['a']}, 'foo': {'parent': 'global', 'vars': []}}\n",
      "add foo b\n",
      "{'global': {'parent': None, 'vars': ['a']}, 'foo': {'parent': 'global', 'vars': ['b']}}\n",
      "get foo a\n",
      "global\n",
      "{'global': {'parent': None, 'vars': ['a']}, 'foo': {'parent': 'global', 'vars': ['b']}}\n",
      "get foo c\n",
      "None\n",
      "{'global': {'parent': None, 'vars': ['a']}, 'foo': {'parent': 'global', 'vars': ['b']}}\n"
     ]
    }
   ],
   "source": [
    "def create(namespace, parent):\n",
    "    dict[namespace] = {'parent': parent, 'vars': []}\n",
    "    return()    \n",
    "def add(namespace, var):\n",
    "    dict[namespace]['vars'].append(var)\n",
    "    return()   \n",
    "def get(namespace, var):\n",
    "    name = namespace\n",
    "    if var in dict[name]['vars']:\n",
    "        print(name)\n",
    "    else:\n",
    "        if name == 'global':\n",
    "            print(None)\n",
    "        else:\n",
    "            get(dict[name]['parent'], var)\n",
    "dict = {'global': {'parent': None, 'vars': []}}\n",
    "n = int(input())\n",
    "for _ in range(n):\n",
    "    command, namesp, arg = input().split()\n",
    "    if command == 'create':\n",
    "        create(namesp, arg)\n",
    "    elif command == 'add':\n",
    "        add(namesp, arg)\n",
    "    elif command == 'get':\n",
    "        get(namesp, arg)\n",
    "    print(dict)"
   ]
  },
  {
   "cell_type": "code",
   "execution_count": null,
   "metadata": {},
   "outputs": [],
   "source": []
  },
  {
   "cell_type": "code",
   "execution_count": null,
   "metadata": {},
   "outputs": [],
   "source": []
  }
 ],
 "metadata": {
  "kernelspec": {
   "display_name": "Python 3",
   "language": "python",
   "name": "python3"
  },
  "language_info": {
   "codemirror_mode": {
    "name": "ipython",
    "version": 3
   },
   "file_extension": ".py",
   "mimetype": "text/x-python",
   "name": "python",
   "nbconvert_exporter": "python",
   "pygments_lexer": "ipython3",
   "version": "3.7.4"
  }
 },
 "nbformat": 4,
 "nbformat_minor": 2
}
