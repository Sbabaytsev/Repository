{
 "cells": [
  {
   "cell_type": "code",
   "execution_count": 13,
   "metadata": {},
   "outputs": [
    {
     "name": "stdout",
     "output_type": "stream",
     "text": [
      "None\n",
      "[1, 0, 2, -4, 1, 0, 0, 39, 0, 0]\n"
     ]
    }
   ],
   "source": [
    "lst = [1, 2, 0, 4, -8, 45, 2, 0, -0, 78, 0, 0]\n",
    "def modify_list (l):\n",
    "    a = []\n",
    "    for i in range (len(l)):\n",
    "        if (int(l[i]) % 2) == 0:\n",
    "            a.append(int(l[i] // 2))\n",
    "    l[:] = a\n",
    "\n",
    "print(modify_list(lst))\n",
    "print(lst)"
   ]
  },
  {
   "cell_type": "code",
   "execution_count": 14,
   "metadata": {},
   "outputs": [],
   "source": [
    "\n",
    "def modify_list(l):\n",
    "    l[:] = [x//2 for x in l if x % 2 == 0]"
   ]
  },
  {
   "cell_type": "code",
   "execution_count": 33,
   "metadata": {},
   "outputs": [],
   "source": [
    "d = {}\n",
    "def update_dictionary(d, key, value):\n",
    "    if key in d:\n",
    "        d[key].append(value)\n",
    "    elif (int(2*key)) in d:\n",
    "        d[int(2*key)].append(value)\n",
    "    else:\n",
    "        d[int(2*key)] = [value]"
   ]
  },
  {
   "cell_type": "code",
   "execution_count": 44,
   "metadata": {},
   "outputs": [],
   "source": [
    "update_dictionary(d,2,5)"
   ]
  },
  {
   "cell_type": "code",
   "execution_count": 45,
   "metadata": {},
   "outputs": [
    {
     "name": "stdout",
     "output_type": "stream",
     "text": [
      "{4: [2, 2, 2, 3], 2: [3, 5]}\n"
     ]
    }
   ],
   "source": [
    "print(d)"
   ]
  },
  {
   "cell_type": "code",
   "execution_count": 57,
   "metadata": {},
   "outputs": [
    {
     "name": "stdout",
     "output_type": "stream",
     "text": [
      "weW rtY MMM nby WEW wew WeW\n",
      "wew 4\n",
      "rty 1\n",
      "mmm 1\n",
      "nby 1\n"
     ]
    }
   ],
   "source": [
    "s = input().lower().split()\n",
    "d = {}\n",
    "for i in range(len(s)):\n",
    "    if s[i] not in d.keys():\n",
    "        d[s[i]] = [1]\n",
    "    else:\n",
    "        d[s[i]].append(1)\n",
    "for i in d:\n",
    "    print(i, d[i].count(1))"
   ]
  },
  {
   "cell_type": "code",
   "execution_count": 48,
   "metadata": {},
   "outputs": [
    {
     "name": "stdout",
     "output_type": "stream",
     "text": [
      "['wew', 'rty', 'mmm', 'nby', 'wew']\n"
     ]
    }
   ],
   "source": [
    "print(s)"
   ]
  },
  {
   "cell_type": "code",
   "execution_count": 58,
   "metadata": {},
   "outputs": [
    {
     "name": "stdout",
     "output_type": "stream",
     "text": [
      "weW rtY MMM nby WEW wew WeW\n",
      "mmm 1\n",
      "nby 1\n",
      "rty 1\n",
      "wew 4\n"
     ]
    }
   ],
   "source": [
    "a=input().lower().split(' ')\n",
    "for i in set(a):\n",
    "    print (i, a.count(i))\n"
   ]
  },
  {
   "cell_type": "code",
   "execution_count": 14,
   "metadata": {},
   "outputs": [
    {
     "name": "stdout",
     "output_type": "stream",
     "text": [
      "6\n",
      "1\n",
      "1\n",
      "2\n",
      "2\n",
      "3\n",
      "4\n",
      "2\n",
      "2\n",
      "4\n",
      "4\n",
      "6\n",
      "8\n"
     ]
    }
   ],
   "source": [
    "def f(x):\n",
    "    return x*2\n",
    "\n",
    "n = int(input())\n",
    "x = [0 for i in range(n)]\n",
    "for i in range(n):\n",
    "    x[i] = int(input())\n",
    "d = {}\n",
    "for i in set(x):\n",
    "    d[i] = (f(i))\n",
    "for i in range(n):\n",
    "    print(d[x[i]])"
   ]
  },
  {
   "cell_type": "markdown",
   "metadata": {},
   "source": [
    "print(d)"
   ]
  },
  {
   "cell_type": "code",
   "execution_count": 15,
   "metadata": {},
   "outputs": [
    {
     "name": "stdout",
     "output_type": "stream",
     "text": [
      "{1: 2, 2: 4, 3: 6, 4: 8}\n"
     ]
    }
   ],
   "source": [
    "print(d)"
   ]
  },
  {
   "cell_type": "code",
   "execution_count": 47,
   "metadata": {},
   "outputs": [
    {
     "name": "stdout",
     "output_type": "stream",
     "text": [
      "z\n"
     ]
    }
   ],
   "source": [
    "print(chr(122))"
   ]
  },
  {
   "cell_type": "code",
   "execution_count": null,
   "metadata": {},
   "outputs": [],
   "source": []
  }
 ],
 "metadata": {
  "kernelspec": {
   "display_name": "Python 3",
   "language": "python",
   "name": "python3"
  },
  "language_info": {
   "codemirror_mode": {
    "name": "ipython",
    "version": 3
   },
   "file_extension": ".py",
   "mimetype": "text/x-python",
   "name": "python",
   "nbconvert_exporter": "python",
   "pygments_lexer": "ipython3",
   "version": "3.7.4"
  }
 },
 "nbformat": 4,
 "nbformat_minor": 2
}
