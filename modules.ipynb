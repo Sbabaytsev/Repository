{
 "cells": [
  {
   "cell_type": "code",
   "execution_count": 1,
   "metadata": {},
   "outputs": [
    {
     "name": "stdout",
     "output_type": "stream",
     "text": [
      "10\n",
      "62.83185307179586\n"
     ]
    }
   ],
   "source": [
    "import math\n",
    "r = float(input())\n",
    "print(r * math.tau)"
   ]
  },
  {
   "cell_type": "code",
   "execution_count": 5,
   "metadata": {},
   "outputs": [
    {
     "name": "stdout",
     "output_type": "stream",
     "text": [
      "-f  \n",
      "C:\\Users\\User\\AppData\\Roaming\\jupyter\\runtime\\kernel-2c75a175-37f4-476a-abe0-7d45daa8e507.json  \n"
     ]
    }
   ],
   "source": [
    "import sys\n",
    "for i in range(1, len(sys.argv)):\n",
    "    print(sys.argv[i], ' ')"
   ]
  },
  {
   "cell_type": "code",
   "execution_count": 6,
   "metadata": {},
   "outputs": [
    {
     "name": "stdout",
     "output_type": "stream",
     "text": [
      "-f C:\\Users\\User\\AppData\\Roaming\\jupyter\\runtime\\kernel-2c75a175-37f4-476a-abe0-7d45daa8e507.json\n"
     ]
    }
   ],
   "source": [
    "import sys\n",
    "print(*sys.argv[1:])"
   ]
  },
  {
   "cell_type": "code",
   "execution_count": 15,
   "metadata": {},
   "outputs": [
    {
     "name": "stdout",
     "output_type": "stream",
     "text": [
      "https://stepic.org/media/attachments/course67/3.6.2/662.txt\n",
      "25\n"
     ]
    }
   ],
   "source": [
    "import requests\n",
    "with open ('D:\\\\_Работа\\\\php js py\\\\py\\\\dataset_3378_2.txt', 'r') as f:\n",
    "    url = f.readline().strip()\n",
    "print(url)\n",
    "r = requests.get(url)\n",
    "print(len(r.text.splitlines()))\n"
   ]
  },
  {
   "cell_type": "code",
   "execution_count": 1,
   "metadata": {},
   "outputs": [
    {
     "name": "stdout",
     "output_type": "stream",
     "text": [
      "https://stepic.org/media/attachments/course67/3.6.3/699991.txt\n",
      "We are the champions, my friends,\n",
      "And we'll keep on fighting 'til the end.\n",
      "We are the champions.\n",
      "We are the champions.\n",
      "No time for losers\n",
      "'Cause we are the champions of the world.\n"
     ]
    }
   ],
   "source": [
    "import requests\n",
    "with open ('D:\\\\_Работа\\\\php js py\\\\py\\\\dataset_3378_3.txt', 'r') as f:\n",
    "    url = f.readline().strip()\n",
    "print(url)\n",
    "url1 = 'https://stepic.org/media/attachments/course67/3.6.3/'\n",
    "r = requests.get(url)\n",
    "while r.text[0:2] != 'We':\n",
    "    r = requests.get(url1 + r.text)\n",
    "print(r.text)"
   ]
  },
  {
   "cell_type": "code",
   "execution_count": 5,
   "metadata": {},
   "outputs": [
    {
     "name": "stdout",
     "output_type": "stream",
     "text": [
      "<!-- Plain HTML page that kicks us into the app -->\r\n",
      "\r\n",
      "<html>\r\n",
      "<head>\r\n",
      "<meta http-equiv=\"Refresh\" content=\"0; URL=index.jsf\">\r\n",
      "</head>\r\n",
      "</html>\n"
     ]
    }
   ],
   "source": [
    "import requests\n",
    "r = requests.get('https://portal.voronezh.gdc.nokia.com/nsn-portal/')\n",
    "print(r.text)"
   ]
  },
  {
   "cell_type": "code",
   "execution_count": null,
   "metadata": {},
   "outputs": [],
   "source": []
  }
 ],
 "metadata": {
  "kernelspec": {
   "display_name": "Python 3",
   "language": "python",
   "name": "python3"
  },
  "language_info": {
   "codemirror_mode": {
    "name": "ipython",
    "version": 3
   },
   "file_extension": ".py",
   "mimetype": "text/x-python",
   "name": "python",
   "nbconvert_exporter": "python",
   "pygments_lexer": "ipython3",
   "version": "3.7.4"
  }
 },
 "nbformat": 4,
 "nbformat_minor": 2
}
