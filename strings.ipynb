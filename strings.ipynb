{
 "cells": [
  {
   "cell_type": "code",
   "execution_count": 11,
   "metadata": {},
   "outputs": [
    {
     "name": "stdout",
     "output_type": "stream",
     "text": [
      "13\n",
      "False\n"
     ]
    }
   ],
   "source": [
    "a = int(input())\n",
    "print((-15 < a <= 12) or (14 < a < 17) or (a >= 19))"
   ]
  },
  {
   "cell_type": "code",
   "execution_count": 13,
   "metadata": {},
   "outputs": [
    {
     "name": "stdout",
     "output_type": "stream",
     "text": [
      "2\n",
      "0\n",
      "/\n",
      "Деление на 0!\n"
     ]
    }
   ],
   "source": [
    "a = float(input())\n",
    "b = float(input())\n",
    "oper = input()\n",
    "if oper == 'mod':\n",
    "    if b != 0:\n",
    "        print(a % b)\n",
    "    else: \n",
    "        print(\"Деление на 0!\")\n",
    "if oper == 'pow':\n",
    "    print(a ** b)\n",
    "if oper == 'div':\n",
    "    if b != 0:\n",
    "        print(a // b)\n",
    "    else: \n",
    "        print(\"Деление на 0!\")\n",
    "if oper == '+':\n",
    "    print(a + b)\n",
    "if oper == '-':\n",
    "    print(a - b)\n",
    "if oper == '/':\n",
    "    if b != 0:\n",
    "        print(a / b)\n",
    "    else: \n",
    "        print(\"Деление на 0!\")\n",
    "if oper == '*':\n",
    "    print(a * b)"
   ]
  },
  {
   "cell_type": "code",
   "execution_count": null,
   "metadata": {},
   "outputs": [],
   "source": [
    "t = input()\n",
    "if t == 'треугольник':\n",
    "    a = float(input())\n",
    "    b = float(input())\n",
    "    c = float(input())\n",
    "    p = (a + b + c)/2\n",
    "    print(p * (p - a) * (p - b) * (p - c) ** 0.5)\n",
    "elif t == 'прямоугольник':\n",
    "    a = float(input())\n",
    "    b = float(input())\n",
    "    print(a * b)\n",
    "elif t == 'круг':\n",
    "    r = float(input())\n",
    "    print(3.14 * (r ** 2))\n",
    "    "
   ]
  },
  {
   "cell_type": "code",
   "execution_count": 16,
   "metadata": {},
   "outputs": [
    {
     "name": "stdout",
     "output_type": "stream",
     "text": [
      "abcd\n",
      "*d%#\n",
      "abacabadaba\n",
      "#*%*d*%\n",
      "*d*%*d*#*d*\n",
      "dacabac\n"
     ]
    }
   ],
   "source": [
    "s_ish, s_kon, stroka1, stroka2 = (input() for i in range(4))\n",
    "res1, res2 = '', ''\n",
    "for i in range(len(stroka1)):\n",
    "    j = 0\n",
    "    while s_ish[j] != stroka1[i]:\n",
    "        j += 1\n",
    "    res1 += s_kon[j]\n",
    "print(res1)\n",
    "for i in range(len(stroka2)):\n",
    "    j = 0\n",
    "    while s_kon[j] != stroka2[i]:\n",
    "        j += 1\n",
    "    res2 += s_ish[j]\n",
    "print(res2)\n",
    "\n",
    "        "
   ]
  },
  {
   "cell_type": "code",
   "execution_count": 17,
   "metadata": {},
   "outputs": [
    {
     "name": "stdout",
     "output_type": "stream",
     "text": [
      "abcd\n",
      "*d%#\n",
      "abacabadaba\n",
      "#*%*d*%\n",
      "*d*%*d*#*d*\n",
      "dacabac\n"
     ]
    }
   ],
   "source": [
    "m1, m2 = input(), input()\n",
    "print(''.join([m2[m1.index(i)] for i in input()]), ''.join([m1[m2.index(i)] for i in input()]), sep='\\n')"
   ]
  },
  {
   "cell_type": "code",
   "execution_count": 1,
   "metadata": {},
   "outputs": [
    {
     "name": "stdout",
     "output_type": "stream",
     "text": [
      "2\n",
      "www\n",
      "rrr\n",
      "4\n",
      "www err rrr ddfs\n",
      "ffqer fg\n",
      "rf\n",
      "rgewrg\n",
      "['www', 'rrr']\n",
      "rf\n",
      "err\n",
      "rgewrg\n",
      "ffqer\n",
      "ddfs\n",
      "fg\n"
     ]
    }
   ],
   "source": [
    "# На вход программе первой строкой передаётся количество dd известных нам слов, после чего на dd строках указываются эти слова. \n",
    "#Затем передаётся количество ll строк текста для проверки, после чего ll строк текста.\n",
    "#Выведите уникальные \"ошибки\" в произвольном порядке. Работу производите без учёта регистра.\n",
    "\n",
    "s = [input().lower() for i in range(int(input()))]\n",
    "t = [input().lower() for i in range(int(input()))]\n",
    "err = []\n",
    "for i in t:\n",
    "    for j in i.split():\n",
    "        if j not in s:\n",
    "            err.append(j)\n",
    "for i in set(err):\n",
    "    print(i)"
   ]
  },
  {
   "cell_type": "code",
   "execution_count": 5,
   "metadata": {},
   "outputs": [
    {
     "name": "stdout",
     "output_type": "stream",
     "text": [
      "2\n",
      "юг 20\n",
      "север 10\n",
      "0 -10\n"
     ]
    }
   ],
   "source": [
    "# Группа биологов в институте биоинформатики завела себе черепашку.\n",
    "# \n",
    "# После дрессировки черепашка научилась понимать и запоминать указания биологов следующего вида:\n",
    "# север 10\n",
    "# запад 20\n",
    "# юг 30\n",
    "# восток 40\n",
    "# где первое слово — это направление, в котором должна двигаться черепашка, \n",
    "# а число после слова — это положительное расстояние в сантиметрах, которое должна пройти черепашка.\n",
    "# \n",
    "# Но команды даются быстро, а черепашка ползёт медленно, и программисты догадались, что можно написать программу, \n",
    "# которая определит, куда в итоге биологи приведут черепашку. \n",
    "# Для этого программисты просят вас написать программу, которая выведет точку, в которой окажется черепашка после всех команд. \n",
    "# Для простоты они решили считать, что движение начинается в точке (0, 0), и движение на восток увеличивает первую координату, \n",
    "# а на север — вторую.\n",
    "# \n",
    "# Программе подаётся на вход число команд nn, которые нужно выполнить черепашке, после чего nn строк с самими командами. \n",
    "# Вывести нужно два числа в одну строку: первую и вторую координату конечной точки черепашки. Все координаты целочисленные.\n",
    "\n",
    "d = {'север' : 0, 'юг' : 0, 'запад' : 0, 'восток' : 0}\n",
    "for i in range(int(input())):\n",
    "    s = input().split()\n",
    "    d[s[0]] += int(s[1])\n",
    "print((d['восток'] - d['запад']), (d['север'] - d['юг']))"
   ]
  },
  {
   "cell_type": "code",
   "execution_count": 38,
   "metadata": {},
   "outputs": [
    {
     "name": "stdout",
     "output_type": "stream",
     "text": [
      "1 126.44444444444444\n",
      "2 129.0\n",
      "3 133.83333333333334\n",
      "4 139.66666666666666\n",
      "5 145.8\n",
      "6 154.75\n",
      "7 159.71428571428572\n",
      "8 166.0\n",
      "9 171.25\n",
      "10 170.5\n",
      "11 175.0\n"
     ]
    }
   ],
   "source": [
    "# Дан файл с таблицей в формате TSV с информацией о росте школьников разных классов.\n",
    "# \n",
    "# Напишите программу, которая прочитает этот файл и подсчитает для каждого класса средний рост учащегося.\n",
    "# \n",
    "# Файл состоит из набора строк, каждая из которых представляет собой три поля:\n",
    "# Класс Фамилия Рост\n",
    "# \n",
    "# Класс обозначается только числом. \n",
    "# Буквенные модификаторы не используются. \n",
    "# Номер класса может быть от 1 до 11 включительно. \n",
    "# В фамилии нет пробелов, а в качестве роста используется натуральное число, \n",
    "# но при подсчёте среднего требуется вычислить значение в виде вещественного числа.\n",
    "# \n",
    "# Выводить информацию о среднем росте следует в порядке возрастания номера класса \n",
    "# (для классов с первого по одиннадцатый). \n",
    "# Если про какой-то класс нет информации, необходимо вывести напротив него прочерк, например:\n",
    "# Sample Input:\n",
    "# \n",
    "# 6\tВяххи\t159\n",
    "# 11\tФедотов\t172\n",
    "# 7\tБондарев\t158\n",
    "# 6\tЧайкина\t153\n",
    "# Sample Output:\n",
    "# \n",
    "# 1 -\n",
    "# 2 -\n",
    "# 3 -\n",
    "# 4 -\n",
    "# 5 -\n",
    "# 6 156.0\n",
    "# 7 158.0\n",
    "# 8 -\n",
    "# 9 -\n",
    "# 10 -\n",
    "# 11 172.0\n",
    "\n",
    "\n",
    "with open ('D:\\\\_Работа\\\\php js py\\\\py\\\\dataset_3380_5.txt', 'r') as inf:\n",
    "    d = dict((i,[]) for i in range(1,12))\n",
    "    s = inf.readlines()\n",
    "    for el in s:\n",
    "        str = el.replace('\\n', '').split('\\t')\n",
    "        d[int(str[0])].append(float(str[2]))\n",
    "for i in range(1,12):\n",
    "    if len(d[i]) == 0:\n",
    "        print(i, '-')\n",
    "    else:\n",
    "        n = 0\n",
    "        sum = 0\n",
    "        for x in d[i]:\n",
    "            sum += float(x)\n",
    "            n += 1\n",
    "        print(i, float(sum / n))"
   ]
  },
  {
   "cell_type": "code",
   "execution_count": null,
   "metadata": {},
   "outputs": [],
   "source": []
  },
  {
   "cell_type": "code",
   "execution_count": null,
   "metadata": {},
   "outputs": [],
   "source": []
  },
  {
   "cell_type": "code",
   "execution_count": null,
   "metadata": {},
   "outputs": [],
   "source": []
  }
 ],
 "metadata": {
  "kernelspec": {
   "display_name": "Python 3",
   "language": "python",
   "name": "python3"
  },
  "language_info": {
   "codemirror_mode": {
    "name": "ipython",
    "version": 3
   },
   "file_extension": ".py",
   "mimetype": "text/x-python",
   "name": "python",
   "nbconvert_exporter": "python",
   "pygments_lexer": "ipython3",
   "version": "3.7.4"
  }
 },
 "nbformat": 4,
 "nbformat_minor": 2
}
