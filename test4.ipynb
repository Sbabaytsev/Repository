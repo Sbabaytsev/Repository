{
 "cells": [
  {
   "cell_type": "code",
   "execution_count": 16,
   "metadata": {},
   "outputs": [
    {
     "name": "stdout",
     "output_type": "stream",
     "text": [
      "5\n",
      "9\n",
      "6\n",
      "6\n",
      "\t6\t\n",
      "5\t30\t\n",
      "6\t36\t\n",
      "7\t42\t\n",
      "8\t48\t\n",
      "9\t54\t\n"
     ]
    }
   ],
   "source": [
    "a,b,c,d = int(input()),int(input()),int(input()),int(input())\n",
    "print('',end='\\t')\n",
    "for k in range(c,d+1):\n",
    "    print(k,end='\\t')\n",
    "print()\n",
    "for i in range(a,b+1):\n",
    "    print(i,end='\\t')\n",
    "    for j in range(c,d+1):\n",
    "        print(i*j,end='\\t')\n",
    "    print()\n"
   ]
  },
  {
   "cell_type": "code",
   "execution_count": 18,
   "metadata": {},
   "outputs": [
    {
     "name": "stdout",
     "output_type": "stream",
     "text": [
      "-5\n",
      "12\n",
      "4.5\n"
     ]
    }
   ],
   "source": [
    "a , b = int(input()) , int(input())\n",
    "s = 0\n",
    "k = 0\n",
    "if a % 3 == 1:\n",
    "    a += 2\n",
    "elif a% 3 == 2:\n",
    "    a += 1\n",
    "for i in range(a,b+1,3):\n",
    "    s += i\n",
    "    k +=1\n",
    "print(s / k)"
   ]
  },
  {
   "cell_type": "code",
   "execution_count": 20,
   "metadata": {},
   "outputs": [
    {
     "name": "stdout",
     "output_type": "stream",
     "text": [
      "AGgcC\n",
      "80.0\n"
     ]
    }
   ],
   "source": [
    "a = input()\n",
    "g = a.lower().count('g')\n",
    "c = a.lower().count('c')\n",
    "print(((g+c)/len(a))*100)"
   ]
  },
  {
   "cell_type": "code",
   "execution_count": 23,
   "metadata": {},
   "outputs": [
    {
     "name": "stdout",
     "output_type": "stream",
     "text": [
      "def\n",
      "abcdef\n",
      "defghijk\n",
      "kjihgfedcba\n",
      "ijk\n",
      "abcde\n",
      "kigec\n"
     ]
    }
   ],
   "source": [
    "s = 'abcdefghijk'\n",
    "print(s[3:6])\n",
    "print(s[:6])\n",
    "print(s[3:])\n",
    "print(s[::-1])\n",
    "print(s[-3:])\n",
    "print(s[:-6])\n",
    "print(s[-1:-10:-2])"
   ]
  },
  {
   "cell_type": "code",
   "execution_count": 16,
   "metadata": {},
   "outputs": [
    {
     "name": "stdout",
     "output_type": "stream",
     "text": [
      "f\n",
      "f1"
     ]
    }
   ],
   "source": [
    "s = input()\n",
    "i = 1\n",
    "k = len(s) - 1\n",
    "for k in range(1,len(s)):\n",
    "    if s[k] != s[k-1]:\n",
    "        print(s[k-1],end='')\n",
    "        print(i,end='')\n",
    "        i = 1\n",
    "    else:\n",
    "        i += 1\n",
    "print(s[k],end='')\n",
    "print(i,end='')\n",
    "       "
   ]
  },
  {
   "cell_type": "code",
   "execution_count": 17,
   "metadata": {},
   "outputs": [
    {
     "name": "stdout",
     "output_type": "stream",
     "text": [
      "rrTyYYYuio\n",
      "r2T1y1Y3u1i1o1"
     ]
    }
   ],
   "source": [
    "genome = input()+' '\n",
    "s = 0\n",
    "n=genome[0]\n",
    "for i in genome:       \n",
    "    if n!=i:\n",
    "        print(n + str(s), end = '')\n",
    "        s=0\n",
    "        n=i\n",
    "    s+=1"
   ]
  },
  {
   "cell_type": "code",
   "execution_count": 22,
   "metadata": {},
   "outputs": [
    {
     "name": "stdout",
     "output_type": "stream",
     "text": [
      "-4 4\n",
      "-4\n",
      "4\n",
      "0\n"
     ]
    }
   ],
   "source": [
    "s = [int(i) for i in input().split()]\n",
    "sum = 0\n",
    "for k in range(0,len(s)):\n",
    "    sum += s[k]\n",
    "print(sum)"
   ]
  },
  {
   "cell_type": "code",
   "execution_count": 1,
   "metadata": {},
   "outputs": [
    {
     "ename": "SyntaxError",
     "evalue": "invalid syntax (<ipython-input-1-cf9506817a9d>, line 6)",
     "output_type": "error",
     "traceback": [
      "\u001b[1;36m  File \u001b[1;32m\"<ipython-input-1-cf9506817a9d>\"\u001b[1;36m, line \u001b[1;32m6\u001b[0m\n\u001b[1;33m    else:\u001b[0m\n\u001b[1;37m       ^\u001b[0m\n\u001b[1;31mSyntaxError\u001b[0m\u001b[1;31m:\u001b[0m invalid syntax\n"
     ]
    }
   ],
   "source": [
    "s = [int(i) for i in input().split()]\n",
    "a = []\n",
    "if len(s) > 1:\n",
    "    for i in range(0,len(s)):\n",
    "        a += [s[i+1] + s[i-1]\n",
    "else:\n",
    "    a = s\n",
    "print(a,end='')"
   ]
  },
  {
   "cell_type": "code",
   "execution_count": 18,
   "metadata": {},
   "outputs": [
    {
     "name": "stdout",
     "output_type": "stream",
     "text": [
      "1 3 5\n",
      "8 6 4 "
     ]
    }
   ],
   "source": [
    "s = [int(i) for i in input().split()]\n",
    "a = []\n",
    "if len(s) > 1:\n",
    "    a.append(int(s[-1]) + int(s[1]))\n",
    "    for k in range(1,(len(s)-1)):\n",
    "        a.append((int(s[k+1]) + int(s[k-1])))\n",
    "    a.append(int(s[0]) + int(s[-2]))\n",
    "else:\n",
    "    a = s\n",
    "for i in range((len(s))):\n",
    "    print(int(a[i]), end=' ')\n",
    "    \n"
   ]
  },
  {
   "cell_type": "code",
   "execution_count": 3,
   "metadata": {
    "scrolled": true
   },
   "outputs": [
    {
     "name": "stdout",
     "output_type": "stream",
     "text": [
      "4 5 0 9 0 7 8 0 9 2\n"
     ]
    }
   ],
   "source": [
    "s = [int(i) for i in input().split()]\n",
    "a = []\n",
    "while len(s) > 0:\n",
    "    num = int(s[0])\n",
    "    if s.count(num) > 1: \n",
    "        a.append(num)\n",
    "    while num in s:\n",
    "        s.remove(num)\n",
    "for i in range((len(a))):\n",
    "    print(int(a[i]), end=' ')"
   ]
  },
  {
   "cell_type": "code",
   "execution_count": 2,
   "metadata": {},
   "outputs": [
    {
     "name": "stdout",
     "output_type": "stream",
     "text": [
      "4\n",
      "-3\n",
      "2\n",
      "-3\n",
      "38\n"
     ]
    }
   ],
   "source": [
    "b = 0\n",
    "c = 0\n",
    "while 1 == 1:\n",
    "    a = int(input())\n",
    "    b += a\n",
    "    c += a*a\n",
    "    if b == 0:\n",
    "        break\n",
    "print (c)\n"
   ]
  },
  {
   "cell_type": "code",
   "execution_count": 42,
   "metadata": {},
   "outputs": [
    {
     "name": "stdout",
     "output_type": "stream",
     "text": [
      "100\n",
      "1 2 2 3 3 3 4 4 4 4 5 5 5 5 5 6 6 6 6 6 6 7 7 7 7 7 7 7 8 8 8 8 8 8 8 8 9 9 9 9 9 9 9 9 9 10 10 10 10 10 10 10 10 10 10 11 11 11 11 11 11 11 11 11 11 11 12 12 12 12 12 12 12 12 12 12 12 12 13 13 13 13 13 13 13 13 13 13 13 13 13 14 14 14 14 14 14 14 14 14\n"
     ]
    }
   ],
   "source": [
    "n = int(input())\n",
    "a = [[i]*i for i in range(1,n+1)]\n",
    "b = []\n",
    "i = 0\n",
    "while i<n:\n",
    "    b += a[i]\n",
    "    i += 1 \n",
    "print(*b[0:n])"
   ]
  },
  {
   "cell_type": "code",
   "execution_count": 32,
   "metadata": {},
   "outputs": [
    {
     "name": "stdout",
     "output_type": "stream",
     "text": [
      "[[1], [1], [2, 2], [1], [2, 2], [3, 3, 3]] "
     ]
    }
   ],
   "source": [
    "print(b, end=' ')"
   ]
  },
  {
   "cell_type": "code",
   "execution_count": 47,
   "metadata": {},
   "outputs": [
    {
     "name": "stdout",
     "output_type": "stream",
     "text": [
      "5 6 4 14 32 5 6 7 14 5\n",
      "0\n",
      "Отсутствует\n"
     ]
    }
   ],
   "source": [
    "lst = [int(i) for i in input().split()]\n",
    "x = int(input())\n",
    "if lst.count(x) > 0:\n",
    "    for i in range(len(lst)):\n",
    "        if int(lst[i]) == x:\n",
    "            print(i,end=' ')\n",
    "else:\n",
    "    print('Отсутствует')"
   ]
  },
  {
   "cell_type": "code",
   "execution_count": 9,
   "metadata": {},
   "outputs": [
    {
     "name": "stdout",
     "output_type": "stream",
     "text": [
      "1 2 3\n",
      "['1', '2', '3']\n",
      "2 3 4\n",
      "['2', '3', '4']\n",
      "3 4 5\n",
      "['3', '4', '5']\n",
      "4 5 6\n",
      "['4', '5', '6']\n",
      "end\n",
      "['end']\n",
      "[[1, 2, 3], [2, 3, 4], [3, 4, 5], [4, 5, 6]]\n",
      "[[0, 0, 0], [0, 0, 0], [0, 0, 0], [0, 0, 0]]\n",
      "11 12 13 \n",
      "11 12 13 \n",
      "15 16 17 \n",
      "15 16 17 \n"
     ]
    }
   ],
   "source": [
    "x = [[]]\n",
    "m = []\n",
    "b = []\n",
    "while True:\n",
    "    a = input().split()\n",
    "    print(a)\n",
    "    if a == ['end']:\n",
    "        break\n",
    "    else:\n",
    "        m = [int(i) for i in a]\n",
    "        b.append(m)\n",
    "if a != []:\n",
    "    \n",
    "    col = len(b[0]) #stolb\n",
    "    row = len(b) #stroka\n",
    "    x = [[0 for j in range(col)] for i in range(row)]\n",
    "    if col == 1 and row == 1:\n",
    "        x[0][0] = (b[0][0])*4\n",
    "    else:\n",
    "        print(b)\n",
    "        print(x)\n",
    "        for i in range(row):\n",
    "            for j in range(col):\n",
    "                x[i][j] = (b[i-1][j] + b[i+1-row][j] + b[i][j-1] + b[i][j+1-col])\n",
    "    for i in x:\n",
    "        for j in i:\n",
    "            print(j,end=' ')\n",
    "        print()\n"
   ]
  },
  {
   "cell_type": "code",
   "execution_count": null,
   "metadata": {},
   "outputs": [],
   "source": []
  }
 ],
 "metadata": {
  "kernelspec": {
   "display_name": "Python 3",
   "language": "python",
   "name": "python3"
  },
  "language_info": {
   "codemirror_mode": {
    "name": "ipython",
    "version": 3
   },
   "file_extension": ".py",
   "mimetype": "text/x-python",
   "name": "python",
   "nbconvert_exporter": "python",
   "pygments_lexer": "ipython3",
   "version": "3.7.4"
  }
 },
 "nbformat": 4,
 "nbformat_minor": 2
}
